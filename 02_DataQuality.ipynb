{
 "cells": [
  {
   "cell_type": "code",
   "execution_count": null,
   "id": "0626c06a",
   "metadata": {},
   "outputs": [],
   "source": [
    "from config import load_accepted\n",
    "from config import load_rejected"
   ]
  },
  {
   "cell_type": "markdown",
   "id": "a487ab6a",
   "metadata": {},
   "source": [
    "# SR 11-7 Model Validation Automation\n",
    "\n",
    "> This notebook is part of a series made to demonstrate model validation practices based on the FED’s SR 11-7 guidance. Using LendingClub loan data from 2007 to 2018, we can simulate a full model lifecycle (data integrity -> documentation -> performance testing -> governance). This dataset includes both accepted and rejected loan applications allowing us to evaluate model behavior across funded and unfunded populations, benchmark risk segmentation, and simulate governance controls.\n",
    "\n",
    "## Part 2 - Data Quality\n",
    "\n",
    "### Data Quality Assessment\n",
    "\n",
    "Before validating a model, it's necessary to understand the integrity of the data it relies on. This notebook focuses on evaluating the completeness, consistency, and representativeness of the LendingClub dataset.\n",
    "\n",
    "We’ll generate a structured data dictionary, quantify missingness and uniqueness across loan attributes, and surface potential issues that could compromise model reliability. These diagnostics help to ensure that our inputs are well-defined and suitable for downstream modeling.\n",
    "\n",
    "### Key objectives:\n",
    "\n",
    "- Identify columns with high missingness or low cardinality\n",
    "- Flag potential data leakage or post-approval variables\n",
    "- Create intuitive documentation with readable styling & formatting.\n"
   ]
  }
 ],
 "metadata": {
  "language_info": {
   "name": "python"
  }
 },
 "nbformat": 4,
 "nbformat_minor": 5
}
